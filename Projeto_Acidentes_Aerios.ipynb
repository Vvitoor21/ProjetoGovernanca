{
  "nbformat": 4,
  "nbformat_minor": 0,
  "metadata": {
    "colab": {
      "name": "Projeto_Acidentes_Aerios.ipynb",
      "provenance": [],
      "collapsed_sections": [],
      "authorship_tag": "ABX9TyNuUmMRLBu/f89WcNEj9Jxm",
      "include_colab_link": true
    },
    "kernelspec": {
      "name": "python3",
      "display_name": "Python 3"
    },
    "language_info": {
      "name": "python"
    }
  },
  "cells": [
    {
      "cell_type": "markdown",
      "metadata": {
        "id": "view-in-github",
        "colab_type": "text"
      },
      "source": [
        "<a href=\"https://colab.research.google.com/github/Vvitoor21/ProjetoGovernanca/blob/main/Projeto_Acidentes_Aerios.ipynb\" target=\"_parent\"><img src=\"https://colab.research.google.com/assets/colab-badge.svg\" alt=\"Open In Colab\"/></a>"
      ]
    },
    {
      "cell_type": "markdown",
      "source": [
        "### **OCORREÊNCIAS CENIPA**\n",
        "\n",
        "\n",
        "\n"
      ],
      "metadata": {
        "id": "8VIaLFeLahKf"
      }
    },
    {
      "cell_type": "markdown",
      "source": [
        "## **Bibliotecas utilizadas**"
      ],
      "metadata": {
        "id": "eZdVDiwCAMZV"
      }
    },
    {
      "cell_type": "markdown",
      "source": [
        "PANDAS: Pandas é uma biblioteca em Python para manipulação e análise de dados.\n",
        "Como um todo ela ferece estruturas e operações para manipular tabelas numéricas e séries temporais.\n",
        "\n",
        "NUMPY: Numpy é uma biblioteca que suporta o processamento de grandes, multi-dimensionais arrays e matrizes,\n",
        "juntamente com uma grande coleção de funções matemáticas de alto nível para operar,\n",
        "que superam muitos conjuntos de calculos numericos\n",
        "\n",
        "MATPLOTLIB: O matplotlib é uma biblioteca com recursos para a geração de gráficos a partir de arrays\n",
        "\n",
        "SEABORN: Seaborn é uma biblioteca também usada para geração de gráficos\n",
        "porém é superior da biblioteca matplotlib e também está intimamente integrado às estruturas de dados dos pandas .\n",
        "\n",
        "COUNTER: Counter é uma subclasse de dict especialmente projetada para contar objetos hashable em Python. É um dicionário que armazena objetos como chaves e conta como valores.\n",
        "\n",
        "STATIC: Métodos estáticos em Python são extremamente semelhantes aos métodos de nível de classe python, a diferença é que um método estático está vinculado a uma classe em vez dos objetos dessa classe. Isso significa que um método estático pode ser chamado sem um objeto para essa classe."
      ],
      "metadata": {
        "id": "95Gr50Nc5SMN"
      }
    },
    {
      "cell_type": "code",
      "execution_count": null,
      "metadata": {
        "colab": {
          "base_uri": "https://localhost:8080/",
          "height": 473
        },
        "id": "JA39YMRLaArL",
        "outputId": "6b960c36-a7f4-4c3a-912f-126a72f62803"
      },
      "outputs": [
        {
          "output_type": "execute_result",
          "data": {
            "text/plain": [
              "   codigo             tipo                                          descricao  \\\n",
              "0   40107         ACIDENTE  COLISÃO COM OBSTÁCULO DURANTE A DECOLAGEM E POUSO   \n",
              "1   40147         ACIDENTE  FALHA OU MAU FUNCIONAMENTO DE SISTEMA / COMPON...   \n",
              "2   40148         ACIDENTE                                          PANE SECA   \n",
              "3   40149         ACIDENTE                              FALHA DO MOTOR EM VOO   \n",
              "4   40150  INCIDENTE GRAVE                                  COM TREM DE POUSO   \n",
              "\n",
              "             cidade estado        data   ano      hora aeronave_liberada  \\\n",
              "0            GURUPÁ     PA  2010-01-12  2010  14:30:00               SIM   \n",
              "1  UNIÃO DA VITÓRIA     PR  2010-04-08  2010  14:20:00               SIM   \n",
              "2      CAMPO GRANDE     MS  2010-03-19  2010  19:30:00               SIM   \n",
              "3          LUZIÂNIA     GO  2010-03-21  2010  20:45:00               SIM   \n",
              "4       SANTA MARIA     RS  2010-03-10  2010  17:20:00               SIM   \n",
              "\n",
              "  status_investigacao  ...  ocorrencia_saida_pista aeronave_tipo  \\\n",
              "0          FINALIZADA  ...                     NÃO         AVIÃO   \n",
              "1          FINALIZADA  ...                     SIM         AVIÃO   \n",
              "2          FINALIZADA  ...                     NÃO         AVIÃO   \n",
              "3          FINALIZADA  ...                     NÃO         AVIÃO   \n",
              "4          FINALIZADA  ...                     NÃO         AVIÃO   \n",
              "\n",
              "           aeronave_fabricante motor_tipo aeronave_motor_quantidade  \\\n",
              "0  NEIVA INDUSTRIA AERONAUTICA     PISTÃO                 MONOMOTOR   \n",
              "1               PIPER AIRCRAFT     PISTÃO                   BIMOTOR   \n",
              "2              CESSNA AIRCRAFT     PISTÃO                 MONOMOTOR   \n",
              "3                      XAVANTE     PISTÃO                 MONOMOTOR   \n",
              "4               BEECH AIRCRAFT     PISTÃO                 MONOMOTOR   \n",
              "\n",
              "  aeronave_assentos  aeronave_ano_fabricacao  aeronave_pais_fabricante  \\\n",
              "0                 7                     1977                    BRASIL   \n",
              "1                 6                     1997                    BRASIL   \n",
              "2                 6                     1962                    BRASIL   \n",
              "3                 2                     1974                    BRASIL   \n",
              "4                 6                     1974                    BRASIL   \n",
              "\n",
              "  aeronave_fase_operacao aeronave_nivel_dano  \n",
              "0                  POUSO                LEVE  \n",
              "1                  POUSO         SUBSTANCIAL  \n",
              "2      APROXIMAÇÃO FINAL         SUBSTANCIAL  \n",
              "3              DECOLAGEM           DESTRUÍDA  \n",
              "4                  POUSO                LEVE  \n",
              "\n",
              "[5 rows x 21 columns]"
            ],
            "text/html": [
              "\n",
              "  <div id=\"df-71229dbc-5b67-4477-bd88-493949d1ee14\">\n",
              "    <div class=\"colab-df-container\">\n",
              "      <div>\n",
              "<style scoped>\n",
              "    .dataframe tbody tr th:only-of-type {\n",
              "        vertical-align: middle;\n",
              "    }\n",
              "\n",
              "    .dataframe tbody tr th {\n",
              "        vertical-align: top;\n",
              "    }\n",
              "\n",
              "    .dataframe thead th {\n",
              "        text-align: right;\n",
              "    }\n",
              "</style>\n",
              "<table border=\"1\" class=\"dataframe\">\n",
              "  <thead>\n",
              "    <tr style=\"text-align: right;\">\n",
              "      <th></th>\n",
              "      <th>codigo</th>\n",
              "      <th>tipo</th>\n",
              "      <th>descricao</th>\n",
              "      <th>cidade</th>\n",
              "      <th>estado</th>\n",
              "      <th>data</th>\n",
              "      <th>ano</th>\n",
              "      <th>hora</th>\n",
              "      <th>aeronave_liberada</th>\n",
              "      <th>status_investigacao</th>\n",
              "      <th>...</th>\n",
              "      <th>ocorrencia_saida_pista</th>\n",
              "      <th>aeronave_tipo</th>\n",
              "      <th>aeronave_fabricante</th>\n",
              "      <th>motor_tipo</th>\n",
              "      <th>aeronave_motor_quantidade</th>\n",
              "      <th>aeronave_assentos</th>\n",
              "      <th>aeronave_ano_fabricacao</th>\n",
              "      <th>aeronave_pais_fabricante</th>\n",
              "      <th>aeronave_fase_operacao</th>\n",
              "      <th>aeronave_nivel_dano</th>\n",
              "    </tr>\n",
              "  </thead>\n",
              "  <tbody>\n",
              "    <tr>\n",
              "      <th>0</th>\n",
              "      <td>40107</td>\n",
              "      <td>ACIDENTE</td>\n",
              "      <td>COLISÃO COM OBSTÁCULO DURANTE A DECOLAGEM E POUSO</td>\n",
              "      <td>GURUPÁ</td>\n",
              "      <td>PA</td>\n",
              "      <td>2010-01-12</td>\n",
              "      <td>2010</td>\n",
              "      <td>14:30:00</td>\n",
              "      <td>SIM</td>\n",
              "      <td>FINALIZADA</td>\n",
              "      <td>...</td>\n",
              "      <td>NÃO</td>\n",
              "      <td>AVIÃO</td>\n",
              "      <td>NEIVA INDUSTRIA AERONAUTICA</td>\n",
              "      <td>PISTÃO</td>\n",
              "      <td>MONOMOTOR</td>\n",
              "      <td>7</td>\n",
              "      <td>1977</td>\n",
              "      <td>BRASIL</td>\n",
              "      <td>POUSO</td>\n",
              "      <td>LEVE</td>\n",
              "    </tr>\n",
              "    <tr>\n",
              "      <th>1</th>\n",
              "      <td>40147</td>\n",
              "      <td>ACIDENTE</td>\n",
              "      <td>FALHA OU MAU FUNCIONAMENTO DE SISTEMA / COMPON...</td>\n",
              "      <td>UNIÃO DA VITÓRIA</td>\n",
              "      <td>PR</td>\n",
              "      <td>2010-04-08</td>\n",
              "      <td>2010</td>\n",
              "      <td>14:20:00</td>\n",
              "      <td>SIM</td>\n",
              "      <td>FINALIZADA</td>\n",
              "      <td>...</td>\n",
              "      <td>SIM</td>\n",
              "      <td>AVIÃO</td>\n",
              "      <td>PIPER AIRCRAFT</td>\n",
              "      <td>PISTÃO</td>\n",
              "      <td>BIMOTOR</td>\n",
              "      <td>6</td>\n",
              "      <td>1997</td>\n",
              "      <td>BRASIL</td>\n",
              "      <td>POUSO</td>\n",
              "      <td>SUBSTANCIAL</td>\n",
              "    </tr>\n",
              "    <tr>\n",
              "      <th>2</th>\n",
              "      <td>40148</td>\n",
              "      <td>ACIDENTE</td>\n",
              "      <td>PANE SECA</td>\n",
              "      <td>CAMPO GRANDE</td>\n",
              "      <td>MS</td>\n",
              "      <td>2010-03-19</td>\n",
              "      <td>2010</td>\n",
              "      <td>19:30:00</td>\n",
              "      <td>SIM</td>\n",
              "      <td>FINALIZADA</td>\n",
              "      <td>...</td>\n",
              "      <td>NÃO</td>\n",
              "      <td>AVIÃO</td>\n",
              "      <td>CESSNA AIRCRAFT</td>\n",
              "      <td>PISTÃO</td>\n",
              "      <td>MONOMOTOR</td>\n",
              "      <td>6</td>\n",
              "      <td>1962</td>\n",
              "      <td>BRASIL</td>\n",
              "      <td>APROXIMAÇÃO FINAL</td>\n",
              "      <td>SUBSTANCIAL</td>\n",
              "    </tr>\n",
              "    <tr>\n",
              "      <th>3</th>\n",
              "      <td>40149</td>\n",
              "      <td>ACIDENTE</td>\n",
              "      <td>FALHA DO MOTOR EM VOO</td>\n",
              "      <td>LUZIÂNIA</td>\n",
              "      <td>GO</td>\n",
              "      <td>2010-03-21</td>\n",
              "      <td>2010</td>\n",
              "      <td>20:45:00</td>\n",
              "      <td>SIM</td>\n",
              "      <td>FINALIZADA</td>\n",
              "      <td>...</td>\n",
              "      <td>NÃO</td>\n",
              "      <td>AVIÃO</td>\n",
              "      <td>XAVANTE</td>\n",
              "      <td>PISTÃO</td>\n",
              "      <td>MONOMOTOR</td>\n",
              "      <td>2</td>\n",
              "      <td>1974</td>\n",
              "      <td>BRASIL</td>\n",
              "      <td>DECOLAGEM</td>\n",
              "      <td>DESTRUÍDA</td>\n",
              "    </tr>\n",
              "    <tr>\n",
              "      <th>4</th>\n",
              "      <td>40150</td>\n",
              "      <td>INCIDENTE GRAVE</td>\n",
              "      <td>COM TREM DE POUSO</td>\n",
              "      <td>SANTA MARIA</td>\n",
              "      <td>RS</td>\n",
              "      <td>2010-03-10</td>\n",
              "      <td>2010</td>\n",
              "      <td>17:20:00</td>\n",
              "      <td>SIM</td>\n",
              "      <td>FINALIZADA</td>\n",
              "      <td>...</td>\n",
              "      <td>NÃO</td>\n",
              "      <td>AVIÃO</td>\n",
              "      <td>BEECH AIRCRAFT</td>\n",
              "      <td>PISTÃO</td>\n",
              "      <td>MONOMOTOR</td>\n",
              "      <td>6</td>\n",
              "      <td>1974</td>\n",
              "      <td>BRASIL</td>\n",
              "      <td>POUSO</td>\n",
              "      <td>LEVE</td>\n",
              "    </tr>\n",
              "  </tbody>\n",
              "</table>\n",
              "<p>5 rows × 21 columns</p>\n",
              "</div>\n",
              "      <button class=\"colab-df-convert\" onclick=\"convertToInteractive('df-71229dbc-5b67-4477-bd88-493949d1ee14')\"\n",
              "              title=\"Convert this dataframe to an interactive table.\"\n",
              "              style=\"display:none;\">\n",
              "        \n",
              "  <svg xmlns=\"http://www.w3.org/2000/svg\" height=\"24px\"viewBox=\"0 0 24 24\"\n",
              "       width=\"24px\">\n",
              "    <path d=\"M0 0h24v24H0V0z\" fill=\"none\"/>\n",
              "    <path d=\"M18.56 5.44l.94 2.06.94-2.06 2.06-.94-2.06-.94-.94-2.06-.94 2.06-2.06.94zm-11 1L8.5 8.5l.94-2.06 2.06-.94-2.06-.94L8.5 2.5l-.94 2.06-2.06.94zm10 10l.94 2.06.94-2.06 2.06-.94-2.06-.94-.94-2.06-.94 2.06-2.06.94z\"/><path d=\"M17.41 7.96l-1.37-1.37c-.4-.4-.92-.59-1.43-.59-.52 0-1.04.2-1.43.59L10.3 9.45l-7.72 7.72c-.78.78-.78 2.05 0 2.83L4 21.41c.39.39.9.59 1.41.59.51 0 1.02-.2 1.41-.59l7.78-7.78 2.81-2.81c.8-.78.8-2.07 0-2.86zM5.41 20L4 18.59l7.72-7.72 1.47 1.35L5.41 20z\"/>\n",
              "  </svg>\n",
              "      </button>\n",
              "      \n",
              "  <style>\n",
              "    .colab-df-container {\n",
              "      display:flex;\n",
              "      flex-wrap:wrap;\n",
              "      gap: 12px;\n",
              "    }\n",
              "\n",
              "    .colab-df-convert {\n",
              "      background-color: #E8F0FE;\n",
              "      border: none;\n",
              "      border-radius: 50%;\n",
              "      cursor: pointer;\n",
              "      display: none;\n",
              "      fill: #1967D2;\n",
              "      height: 32px;\n",
              "      padding: 0 0 0 0;\n",
              "      width: 32px;\n",
              "    }\n",
              "\n",
              "    .colab-df-convert:hover {\n",
              "      background-color: #E2EBFA;\n",
              "      box-shadow: 0px 1px 2px rgba(60, 64, 67, 0.3), 0px 1px 3px 1px rgba(60, 64, 67, 0.15);\n",
              "      fill: #174EA6;\n",
              "    }\n",
              "\n",
              "    [theme=dark] .colab-df-convert {\n",
              "      background-color: #3B4455;\n",
              "      fill: #D2E3FC;\n",
              "    }\n",
              "\n",
              "    [theme=dark] .colab-df-convert:hover {\n",
              "      background-color: #434B5C;\n",
              "      box-shadow: 0px 1px 3px 1px rgba(0, 0, 0, 0.15);\n",
              "      filter: drop-shadow(0px 1px 2px rgba(0, 0, 0, 0.3));\n",
              "      fill: #FFFFFF;\n",
              "    }\n",
              "  </style>\n",
              "\n",
              "      <script>\n",
              "        const buttonEl =\n",
              "          document.querySelector('#df-71229dbc-5b67-4477-bd88-493949d1ee14 button.colab-df-convert');\n",
              "        buttonEl.style.display =\n",
              "          google.colab.kernel.accessAllowed ? 'block' : 'none';\n",
              "\n",
              "        async function convertToInteractive(key) {\n",
              "          const element = document.querySelector('#df-71229dbc-5b67-4477-bd88-493949d1ee14');\n",
              "          const dataTable =\n",
              "            await google.colab.kernel.invokeFunction('convertToInteractive',\n",
              "                                                     [key], {});\n",
              "          if (!dataTable) return;\n",
              "\n",
              "          const docLinkHtml = 'Like what you see? Visit the ' +\n",
              "            '<a target=\"_blank\" href=https://colab.research.google.com/notebooks/data_table.ipynb>data table notebook</a>'\n",
              "            + ' to learn more about interactive tables.';\n",
              "          element.innerHTML = '';\n",
              "          dataTable['output_type'] = 'display_data';\n",
              "          await google.colab.output.renderOutput(dataTable, element);\n",
              "          const docLink = document.createElement('div');\n",
              "          docLink.innerHTML = docLinkHtml;\n",
              "          element.appendChild(docLink);\n",
              "        }\n",
              "      </script>\n",
              "    </div>\n",
              "  </div>\n",
              "  "
            ]
          },
          "metadata": {},
          "execution_count": 1
        }
      ],
      "source": [
        "import pandas as pd\n",
        "import numpy as np\n",
        "import matplotlib.pyplot as plt\n",
        "import seaborn as sns\n",
        "from collections import Counter\n",
        "import statistics as static\n",
        "\n",
        "dados = pd.read_csv('/content/sample_data/ocorrencias_cenipa.csv')\n",
        "dados.head()"
      ]
    },
    {
      "cell_type": "markdown",
      "source": [
        "Apresentação de uma prévia do conjunto de dados para serem usados como referência nos gráficos a seguir"
      ],
      "metadata": {
        "id": "AiKtpXpmyW6G"
      }
    },
    {
      "cell_type": "code",
      "source": [
        "dados.shape"
      ],
      "metadata": {
        "colab": {
          "base_uri": "https://localhost:8080/"
        },
        "id": "NBB6y7rVOZ-D",
        "outputId": "420eac84-3ffe-42d1-eaa3-ca7b86a799f4"
      },
      "execution_count": null,
      "outputs": [
        {
          "output_type": "execute_result",
          "data": {
            "text/plain": [
              "(5242, 21)"
            ]
          },
          "metadata": {},
          "execution_count": 9
        }
      ]
    },
    {
      "cell_type": "markdown",
      "source": [
        "Gráfico com um quantidade de 21 colunas e 5242 linhas"
      ],
      "metadata": {
        "id": "1ZQb6Wnmyjyk"
      }
    },
    {
      "cell_type": "code",
      "source": [
        "dados.aeronave_pais_fabricante.value_counts() "
      ],
      "metadata": {
        "colab": {
          "base_uri": "https://localhost:8080/"
        },
        "id": "DJ7RHrSKatP0",
        "outputId": "246b1f38-668f-446f-c5af-e5953fd54ac0"
      },
      "execution_count": null,
      "outputs": [
        {
          "output_type": "execute_result",
          "data": {
            "text/plain": [
              "BRASIL              5139\n",
              "ESTADOS UNIDOS        49\n",
              "NÃO IDENTIFICADO      11\n",
              "PARAGUAI               8\n",
              "CHILE                  5\n",
              "PORTUGAL               5\n",
              "BOLÍVIA                4\n",
              "ALEMANHA               3\n",
              "ESPANHA                3\n",
              "PANAMÁ                 2\n",
              "FRANÇA                 2\n",
              "ARGENTINA              2\n",
              "COLÔMBIA               2\n",
              "ÁFRICA DO SUL          1\n",
              "SUIÇA                  1\n",
              "URUGUAI                1\n",
              "CINGAPURA              1\n",
              "POLÔNIA                1\n",
              "ITÁLIA                 1\n",
              "VENEZUELA              1\n",
              "Name: aeronave_pais_fabricante, dtype: int64"
            ]
          },
          "metadata": {},
          "execution_count": 10
        }
      ]
    },
    {
      "cell_type": "markdown",
      "source": [
        "É possível notar que Brasil e Estados unidos seguem liderando os maiores casos de acidentes."
      ],
      "metadata": {
        "id": "J5BVEX-XytOj"
      }
    },
    {
      "cell_type": "code",
      "source": [
        "tipos = pd.DataFrame(dados.aeronave_tipo.value_counts())\n",
        "tipos.reset_index(inplace=True)\n",
        "tipos.rename_axis('Index', axis = 1,inplace=True)\n",
        "tipos.rename(columns={'index':'Nivel', 'aeronave_tipo': 'Quantidade'},inplace=True)\n",
        "tipos"
      ],
      "metadata": {
        "colab": {
          "base_uri": "https://localhost:8080/",
          "height": 363
        },
        "id": "rTiwfYBpatZG",
        "outputId": "4066c2d5-bcf9-4209-ba36-0663076d51e8"
      },
      "execution_count": null,
      "outputs": [
        {
          "output_type": "execute_result",
          "data": {
            "text/plain": [
              "Index          Nivel  Quantidade\n",
              "0              AVIÃO        4213\n",
              "1        HELICÓPTERO         600\n",
              "2          ULTRALEVE         308\n",
              "3      INDETERMINADO          86\n",
              "4           PLANADOR          15\n",
              "5            ANFÍBIO          12\n",
              "6              TRIKE           5\n",
              "7          DIRIGÍVEL           1\n",
              "8              BALÃO           1\n",
              "9         HIDROAVIÃO           1"
            ],
            "text/html": [
              "\n",
              "  <div id=\"df-575fdf11-ec7e-422a-88cb-6174829296ad\">\n",
              "    <div class=\"colab-df-container\">\n",
              "      <div>\n",
              "<style scoped>\n",
              "    .dataframe tbody tr th:only-of-type {\n",
              "        vertical-align: middle;\n",
              "    }\n",
              "\n",
              "    .dataframe tbody tr th {\n",
              "        vertical-align: top;\n",
              "    }\n",
              "\n",
              "    .dataframe thead th {\n",
              "        text-align: right;\n",
              "    }\n",
              "</style>\n",
              "<table border=\"1\" class=\"dataframe\">\n",
              "  <thead>\n",
              "    <tr style=\"text-align: right;\">\n",
              "      <th>Index</th>\n",
              "      <th>Nivel</th>\n",
              "      <th>Quantidade</th>\n",
              "    </tr>\n",
              "  </thead>\n",
              "  <tbody>\n",
              "    <tr>\n",
              "      <th>0</th>\n",
              "      <td>AVIÃO</td>\n",
              "      <td>4213</td>\n",
              "    </tr>\n",
              "    <tr>\n",
              "      <th>1</th>\n",
              "      <td>HELICÓPTERO</td>\n",
              "      <td>600</td>\n",
              "    </tr>\n",
              "    <tr>\n",
              "      <th>2</th>\n",
              "      <td>ULTRALEVE</td>\n",
              "      <td>308</td>\n",
              "    </tr>\n",
              "    <tr>\n",
              "      <th>3</th>\n",
              "      <td>INDETERMINADO</td>\n",
              "      <td>86</td>\n",
              "    </tr>\n",
              "    <tr>\n",
              "      <th>4</th>\n",
              "      <td>PLANADOR</td>\n",
              "      <td>15</td>\n",
              "    </tr>\n",
              "    <tr>\n",
              "      <th>5</th>\n",
              "      <td>ANFÍBIO</td>\n",
              "      <td>12</td>\n",
              "    </tr>\n",
              "    <tr>\n",
              "      <th>6</th>\n",
              "      <td>TRIKE</td>\n",
              "      <td>5</td>\n",
              "    </tr>\n",
              "    <tr>\n",
              "      <th>7</th>\n",
              "      <td>DIRIGÍVEL</td>\n",
              "      <td>1</td>\n",
              "    </tr>\n",
              "    <tr>\n",
              "      <th>8</th>\n",
              "      <td>BALÃO</td>\n",
              "      <td>1</td>\n",
              "    </tr>\n",
              "    <tr>\n",
              "      <th>9</th>\n",
              "      <td>HIDROAVIÃO</td>\n",
              "      <td>1</td>\n",
              "    </tr>\n",
              "  </tbody>\n",
              "</table>\n",
              "</div>\n",
              "      <button class=\"colab-df-convert\" onclick=\"convertToInteractive('df-575fdf11-ec7e-422a-88cb-6174829296ad')\"\n",
              "              title=\"Convert this dataframe to an interactive table.\"\n",
              "              style=\"display:none;\">\n",
              "        \n",
              "  <svg xmlns=\"http://www.w3.org/2000/svg\" height=\"24px\"viewBox=\"0 0 24 24\"\n",
              "       width=\"24px\">\n",
              "    <path d=\"M0 0h24v24H0V0z\" fill=\"none\"/>\n",
              "    <path d=\"M18.56 5.44l.94 2.06.94-2.06 2.06-.94-2.06-.94-.94-2.06-.94 2.06-2.06.94zm-11 1L8.5 8.5l.94-2.06 2.06-.94-2.06-.94L8.5 2.5l-.94 2.06-2.06.94zm10 10l.94 2.06.94-2.06 2.06-.94-2.06-.94-.94-2.06-.94 2.06-2.06.94z\"/><path d=\"M17.41 7.96l-1.37-1.37c-.4-.4-.92-.59-1.43-.59-.52 0-1.04.2-1.43.59L10.3 9.45l-7.72 7.72c-.78.78-.78 2.05 0 2.83L4 21.41c.39.39.9.59 1.41.59.51 0 1.02-.2 1.41-.59l7.78-7.78 2.81-2.81c.8-.78.8-2.07 0-2.86zM5.41 20L4 18.59l7.72-7.72 1.47 1.35L5.41 20z\"/>\n",
              "  </svg>\n",
              "      </button>\n",
              "      \n",
              "  <style>\n",
              "    .colab-df-container {\n",
              "      display:flex;\n",
              "      flex-wrap:wrap;\n",
              "      gap: 12px;\n",
              "    }\n",
              "\n",
              "    .colab-df-convert {\n",
              "      background-color: #E8F0FE;\n",
              "      border: none;\n",
              "      border-radius: 50%;\n",
              "      cursor: pointer;\n",
              "      display: none;\n",
              "      fill: #1967D2;\n",
              "      height: 32px;\n",
              "      padding: 0 0 0 0;\n",
              "      width: 32px;\n",
              "    }\n",
              "\n",
              "    .colab-df-convert:hover {\n",
              "      background-color: #E2EBFA;\n",
              "      box-shadow: 0px 1px 2px rgba(60, 64, 67, 0.3), 0px 1px 3px 1px rgba(60, 64, 67, 0.15);\n",
              "      fill: #174EA6;\n",
              "    }\n",
              "\n",
              "    [theme=dark] .colab-df-convert {\n",
              "      background-color: #3B4455;\n",
              "      fill: #D2E3FC;\n",
              "    }\n",
              "\n",
              "    [theme=dark] .colab-df-convert:hover {\n",
              "      background-color: #434B5C;\n",
              "      box-shadow: 0px 1px 3px 1px rgba(0, 0, 0, 0.15);\n",
              "      filter: drop-shadow(0px 1px 2px rgba(0, 0, 0, 0.3));\n",
              "      fill: #FFFFFF;\n",
              "    }\n",
              "  </style>\n",
              "\n",
              "      <script>\n",
              "        const buttonEl =\n",
              "          document.querySelector('#df-575fdf11-ec7e-422a-88cb-6174829296ad button.colab-df-convert');\n",
              "        buttonEl.style.display =\n",
              "          google.colab.kernel.accessAllowed ? 'block' : 'none';\n",
              "\n",
              "        async function convertToInteractive(key) {\n",
              "          const element = document.querySelector('#df-575fdf11-ec7e-422a-88cb-6174829296ad');\n",
              "          const dataTable =\n",
              "            await google.colab.kernel.invokeFunction('convertToInteractive',\n",
              "                                                     [key], {});\n",
              "          if (!dataTable) return;\n",
              "\n",
              "          const docLinkHtml = 'Like what you see? Visit the ' +\n",
              "            '<a target=\"_blank\" href=https://colab.research.google.com/notebooks/data_table.ipynb>data table notebook</a>'\n",
              "            + ' to learn more about interactive tables.';\n",
              "          element.innerHTML = '';\n",
              "          dataTable['output_type'] = 'display_data';\n",
              "          await google.colab.output.renderOutput(dataTable, element);\n",
              "          const docLink = document.createElement('div');\n",
              "          docLink.innerHTML = docLinkHtml;\n",
              "          element.appendChild(docLink);\n",
              "        }\n",
              "      </script>\n",
              "    </div>\n",
              "  </div>\n",
              "  "
            ]
          },
          "metadata": {},
          "execution_count": 16
        }
      ]
    },
    {
      "cell_type": "markdown",
      "source": [
        "Durante a presentação é possível verificar que a concentração de tipos de aeronave está em aviões e helicópteros"
      ],
      "metadata": {
        "id": "gp-6MuqGzU-K"
      }
    },
    {
      "cell_type": "code",
      "source": [
        "dados.describe().round()"
      ],
      "metadata": {
        "colab": {
          "base_uri": "https://localhost:8080/",
          "height": 300
        },
        "id": "SJLH8QAMatbR",
        "outputId": "4e55d238-6d8e-4210-addd-e6181c3957d2"
      },
      "execution_count": null,
      "outputs": [
        {
          "output_type": "execute_result",
          "data": {
            "text/plain": [
              "        codigo     ano  aeronaves_envolvidas  aeronave_assentos  \\\n",
              "count   5242.0  5242.0                5242.0             5242.0   \n",
              "mean   56472.0  2014.0                   1.0               28.0   \n",
              "std    13046.0     3.0                   0.0               55.0   \n",
              "min    39115.0  2010.0                   1.0                0.0   \n",
              "25%    46024.0  2012.0                   1.0                2.0   \n",
              "50%    51694.0  2014.0                   1.0                6.0   \n",
              "75%    66451.0  2017.0                   1.0               10.0   \n",
              "max    79227.0  2019.0                   3.0              384.0   \n",
              "\n",
              "       aeronave_ano_fabricacao  \n",
              "count                   5242.0  \n",
              "mean                    1863.0  \n",
              "std                      507.0  \n",
              "min                        0.0  \n",
              "25%                     1978.0  \n",
              "50%                     1992.0  \n",
              "75%                     2007.0  \n",
              "max                     9999.0  "
            ],
            "text/html": [
              "\n",
              "  <div id=\"df-a04c0cf1-2f74-4bfd-bbed-3f7048d8772e\">\n",
              "    <div class=\"colab-df-container\">\n",
              "      <div>\n",
              "<style scoped>\n",
              "    .dataframe tbody tr th:only-of-type {\n",
              "        vertical-align: middle;\n",
              "    }\n",
              "\n",
              "    .dataframe tbody tr th {\n",
              "        vertical-align: top;\n",
              "    }\n",
              "\n",
              "    .dataframe thead th {\n",
              "        text-align: right;\n",
              "    }\n",
              "</style>\n",
              "<table border=\"1\" class=\"dataframe\">\n",
              "  <thead>\n",
              "    <tr style=\"text-align: right;\">\n",
              "      <th></th>\n",
              "      <th>codigo</th>\n",
              "      <th>ano</th>\n",
              "      <th>aeronaves_envolvidas</th>\n",
              "      <th>aeronave_assentos</th>\n",
              "      <th>aeronave_ano_fabricacao</th>\n",
              "    </tr>\n",
              "  </thead>\n",
              "  <tbody>\n",
              "    <tr>\n",
              "      <th>count</th>\n",
              "      <td>5242.0</td>\n",
              "      <td>5242.0</td>\n",
              "      <td>5242.0</td>\n",
              "      <td>5242.0</td>\n",
              "      <td>5242.0</td>\n",
              "    </tr>\n",
              "    <tr>\n",
              "      <th>mean</th>\n",
              "      <td>56472.0</td>\n",
              "      <td>2014.0</td>\n",
              "      <td>1.0</td>\n",
              "      <td>28.0</td>\n",
              "      <td>1863.0</td>\n",
              "    </tr>\n",
              "    <tr>\n",
              "      <th>std</th>\n",
              "      <td>13046.0</td>\n",
              "      <td>3.0</td>\n",
              "      <td>0.0</td>\n",
              "      <td>55.0</td>\n",
              "      <td>507.0</td>\n",
              "    </tr>\n",
              "    <tr>\n",
              "      <th>min</th>\n",
              "      <td>39115.0</td>\n",
              "      <td>2010.0</td>\n",
              "      <td>1.0</td>\n",
              "      <td>0.0</td>\n",
              "      <td>0.0</td>\n",
              "    </tr>\n",
              "    <tr>\n",
              "      <th>25%</th>\n",
              "      <td>46024.0</td>\n",
              "      <td>2012.0</td>\n",
              "      <td>1.0</td>\n",
              "      <td>2.0</td>\n",
              "      <td>1978.0</td>\n",
              "    </tr>\n",
              "    <tr>\n",
              "      <th>50%</th>\n",
              "      <td>51694.0</td>\n",
              "      <td>2014.0</td>\n",
              "      <td>1.0</td>\n",
              "      <td>6.0</td>\n",
              "      <td>1992.0</td>\n",
              "    </tr>\n",
              "    <tr>\n",
              "      <th>75%</th>\n",
              "      <td>66451.0</td>\n",
              "      <td>2017.0</td>\n",
              "      <td>1.0</td>\n",
              "      <td>10.0</td>\n",
              "      <td>2007.0</td>\n",
              "    </tr>\n",
              "    <tr>\n",
              "      <th>max</th>\n",
              "      <td>79227.0</td>\n",
              "      <td>2019.0</td>\n",
              "      <td>3.0</td>\n",
              "      <td>384.0</td>\n",
              "      <td>9999.0</td>\n",
              "    </tr>\n",
              "  </tbody>\n",
              "</table>\n",
              "</div>\n",
              "      <button class=\"colab-df-convert\" onclick=\"convertToInteractive('df-a04c0cf1-2f74-4bfd-bbed-3f7048d8772e')\"\n",
              "              title=\"Convert this dataframe to an interactive table.\"\n",
              "              style=\"display:none;\">\n",
              "        \n",
              "  <svg xmlns=\"http://www.w3.org/2000/svg\" height=\"24px\"viewBox=\"0 0 24 24\"\n",
              "       width=\"24px\">\n",
              "    <path d=\"M0 0h24v24H0V0z\" fill=\"none\"/>\n",
              "    <path d=\"M18.56 5.44l.94 2.06.94-2.06 2.06-.94-2.06-.94-.94-2.06-.94 2.06-2.06.94zm-11 1L8.5 8.5l.94-2.06 2.06-.94-2.06-.94L8.5 2.5l-.94 2.06-2.06.94zm10 10l.94 2.06.94-2.06 2.06-.94-2.06-.94-.94-2.06-.94 2.06-2.06.94z\"/><path d=\"M17.41 7.96l-1.37-1.37c-.4-.4-.92-.59-1.43-.59-.52 0-1.04.2-1.43.59L10.3 9.45l-7.72 7.72c-.78.78-.78 2.05 0 2.83L4 21.41c.39.39.9.59 1.41.59.51 0 1.02-.2 1.41-.59l7.78-7.78 2.81-2.81c.8-.78.8-2.07 0-2.86zM5.41 20L4 18.59l7.72-7.72 1.47 1.35L5.41 20z\"/>\n",
              "  </svg>\n",
              "      </button>\n",
              "      \n",
              "  <style>\n",
              "    .colab-df-container {\n",
              "      display:flex;\n",
              "      flex-wrap:wrap;\n",
              "      gap: 12px;\n",
              "    }\n",
              "\n",
              "    .colab-df-convert {\n",
              "      background-color: #E8F0FE;\n",
              "      border: none;\n",
              "      border-radius: 50%;\n",
              "      cursor: pointer;\n",
              "      display: none;\n",
              "      fill: #1967D2;\n",
              "      height: 32px;\n",
              "      padding: 0 0 0 0;\n",
              "      width: 32px;\n",
              "    }\n",
              "\n",
              "    .colab-df-convert:hover {\n",
              "      background-color: #E2EBFA;\n",
              "      box-shadow: 0px 1px 2px rgba(60, 64, 67, 0.3), 0px 1px 3px 1px rgba(60, 64, 67, 0.15);\n",
              "      fill: #174EA6;\n",
              "    }\n",
              "\n",
              "    [theme=dark] .colab-df-convert {\n",
              "      background-color: #3B4455;\n",
              "      fill: #D2E3FC;\n",
              "    }\n",
              "\n",
              "    [theme=dark] .colab-df-convert:hover {\n",
              "      background-color: #434B5C;\n",
              "      box-shadow: 0px 1px 3px 1px rgba(0, 0, 0, 0.15);\n",
              "      filter: drop-shadow(0px 1px 2px rgba(0, 0, 0, 0.3));\n",
              "      fill: #FFFFFF;\n",
              "    }\n",
              "  </style>\n",
              "\n",
              "      <script>\n",
              "        const buttonEl =\n",
              "          document.querySelector('#df-a04c0cf1-2f74-4bfd-bbed-3f7048d8772e button.colab-df-convert');\n",
              "        buttonEl.style.display =\n",
              "          google.colab.kernel.accessAllowed ? 'block' : 'none';\n",
              "\n",
              "        async function convertToInteractive(key) {\n",
              "          const element = document.querySelector('#df-a04c0cf1-2f74-4bfd-bbed-3f7048d8772e');\n",
              "          const dataTable =\n",
              "            await google.colab.kernel.invokeFunction('convertToInteractive',\n",
              "                                                     [key], {});\n",
              "          if (!dataTable) return;\n",
              "\n",
              "          const docLinkHtml = 'Like what you see? Visit the ' +\n",
              "            '<a target=\"_blank\" href=https://colab.research.google.com/notebooks/data_table.ipynb>data table notebook</a>'\n",
              "            + ' to learn more about interactive tables.';\n",
              "          element.innerHTML = '';\n",
              "          dataTable['output_type'] = 'display_data';\n",
              "          await google.colab.output.renderOutput(dataTable, element);\n",
              "          const docLink = document.createElement('div');\n",
              "          docLink.innerHTML = docLinkHtml;\n",
              "          element.appendChild(docLink);\n",
              "        }\n",
              "      </script>\n",
              "    </div>\n",
              "  </div>\n",
              "  "
            ]
          },
          "metadata": {},
          "execution_count": 10
        }
      ]
    },
    {
      "cell_type": "markdown",
      "source": [
        "De forma resumida a função apresentaa quantidade de valores, a média, o desvio padrão, o valor mínimo, os quartis da distribuição e o valor máximo.\n",
        "Com o método describe() acima, é possivel notar dentro de todo o conjunto de dados, uma média de acidentes no ano de 2014. Seguido pela quantidade minima em 2010 e a máxima em 2019."
      ],
      "metadata": {
        "id": "tllwYu_KzfCo"
      }
    },
    {
      "cell_type": "code",
      "source": [
        "dados['aeronave_liberada'].value_counts().plot(kind='pie',autopct='%1.1f%%',label=\"Classificação de Ocorrências\" ,figsize=(6, 6))\n",
        "plt.show()"
      ],
      "metadata": {
        "colab": {
          "base_uri": "https://localhost:8080/",
          "height": 357
        },
        "id": "XCgWZSdPatdZ",
        "outputId": "c12cc4b6-8ff9-40cd-be00-96f260d2ceb2"
      },
      "execution_count": null,
      "outputs": [
        {
          "output_type": "display_data",
          "data": {
            "text/plain": [
              "<Figure size 432x432 with 1 Axes>"
            ],
            "image/png": "[encoded data removed]"
          },
          "metadata": {}
        }
      ]
    },
    {
      "cell_type": "markdown",
      "source": [
        "Infelizmente é possivel verificar uma alta porcentagem de **46,1%** onde as aeronaves não estao verificados se foram liberadas ou não.O que impacta muito em futuras investigações de causas."
      ],
      "metadata": {
        "id": "qM9Pji0Xm5ne"
      }
    },
    {
      "cell_type": "code",
      "source": [
        "dados['tipo'].value_counts().plot(kind='pie',autopct='%1.1f%%',label=\"Classificação de Ocorrências\" ,figsize=(6, 6))\n",
        "plt.show()"
      ],
      "metadata": {
        "colab": {
          "base_uri": "https://localhost:8080/",
          "height": 357
        },
        "id": "ACih2PvsnS1U",
        "outputId": "64099cb1-fbb1-47b9-a792-4c210559279c"
      },
      "execution_count": null,
      "outputs": [
        {
          "output_type": "display_data",
          "data": {
            "text/plain": [
              "<Figure size 432x432 with 1 Axes>"
            ],
            "image/png": "[encoded data removed]"
          },
          "metadata": {}
        }
      ]
    },
    {
      "cell_type": "markdown",
      "source": [
        "O gráfico apresenta a porcentagem e o tipo de ocorrencias de acidentes de todos os dados do DataFrame.Incluindo todos os países. É possível notar a maior quantidade sendo do tipo: \"INCIDENTE\", correpondendo 55,1 % dos casos totais."
      ],
      "metadata": {
        "id": "r3NEed_-z-Uv"
      }
    },
    {
      "cell_type": "code",
      "source": [
        "\n",
        "motor_tipo = Counter(dados['motor_tipo'])\n",
        "fase_motor_tipo= sorted(motor_tipo, key = motor_tipo.get, reverse = True)\n",
        "contador_motor_tipo = sorted(list(motor_tipo.values()), reverse = True)\n",
        "\n",
        "plt.style.use(\"ggplot\")\n",
        "fig,ax = plt.subplots(figsize=(12, 8))\n",
        "\n",
        "x=fase_motor_tipo\n",
        "y=contador_motor_tipo\n",
        "\n",
        "rects1=ax.bar(x, y,color='black')\n",
        "\n",
        "ax.set_xticks(x)\n",
        "plt.ylabel(\"Número de ocorrências\")\n",
        "plt.title('Ocorrências por TIPO DE MOTOR (2010-2019)')\n",
        "plt.text(7, 1100.9, 'Mediana: %d'%(np.median(np.array(contador_motor_tipo))))\n",
        "plt.text(7, 1000.9, 'Média: %d'%(np.mean(np.array(contador_motor_tipo))))\n",
        "plt.text(7, 900.8, 'Desvio padrão: %.2f'%(static.stdev(contador_motor_tipo)))   \n",
        "\n",
        "\n",
        "plt.show()"
      ],
      "metadata": {
        "colab": {
          "base_uri": "https://localhost:8080/",
          "height": 502
        },
        "id": "sxCM3lVv4vD4",
        "outputId": "08c0ee2c-d2ef-4f4a-ac0c-e27ea895f8eb"
      },
      "execution_count": null,
      "outputs": [
        {
          "output_type": "display_data",
          "data": {
            "text/plain": [
              "<Figure size 864x576 with 1 Axes>"
            ],
            "image/png": "[encoded data removed]"
          },
          "metadata": {}
        }
      ]
    },
    {
      "cell_type": "markdown",
      "source": [
        "Os tipos de motores com as maiores quantidades de acidentes na categoria \"Pistão\". Com resultados acima da média.Seguidos por Jato,Turboélice e Indeterminado.\n",
        "A categoria pistão bate quantidades chegando perto de **3000** casos, onde o restante não passam dos **1500**.\n",
        "\n",
        "A média do número de ocorrencias por tipo de motoe é de **87%**."
      ],
      "metadata": {
        "id": "Aa1iupRm672T"
      }
    },
    {
      "cell_type": "code",
      "source": [
        "danos = pd.DataFrame(dados.aeronave_nivel_dano.value_counts())\n",
        "danos.reset_index(inplace=True)\n",
        "danos.rename_axis('Index', axis = 1)\n",
        "danos.rename(columns={'index':'Nivel', 'aeronave_nivel_dano': 'Quantidade'},inplace=True)"
      ],
      "metadata": {
        "id": "JIKOkMOfNmBJ"
      },
      "execution_count": null,
      "outputs": []
    },
    {
      "cell_type": "code",
      "source": [
        "dadosbrasil = dados[(dados.aeronave_pais_fabricante == 'BRASIL')]\n",
        "dadosbrasil = pd.DataFrame(dadosbrasil)\n",
        "dadosbrasil.head() #Criando DataFrame somente com dados do Brasil"
      ],
      "metadata": {
        "colab": {
          "base_uri": "https://localhost:8080/",
          "height": 473
        },
        "id": "7k8OEE2-athZ",
        "outputId": "545fc350-f55e-49e3-a74c-2e600de82ae4"
      },
      "execution_count": null,
      "outputs": [
        {
          "output_type": "execute_result",
          "data": {
            "text/plain": [
              "   codigo             tipo                                          descricao  \\\n",
              "0   40107         ACIDENTE  COLISÃO COM OBSTÁCULO DURANTE A DECOLAGEM E POUSO   \n",
              "1   40147         ACIDENTE  FALHA OU MAU FUNCIONAMENTO DE SISTEMA / COMPON...   \n",
              "2   40148         ACIDENTE                                          PANE SECA   \n",
              "3   40149         ACIDENTE                              FALHA DO MOTOR EM VOO   \n",
              "4   40150  INCIDENTE GRAVE                                  COM TREM DE POUSO   \n",
              "\n",
              "             cidade estado        data   ano      hora aeronave_liberada  \\\n",
              "0            GURUPÁ     PA  2010-01-12  2010  14:30:00               SIM   \n",
              "1  UNIÃO DA VITÓRIA     PR  2010-04-08  2010  14:20:00               SIM   \n",
              "2      CAMPO GRANDE     MS  2010-03-19  2010  19:30:00               SIM   \n",
              "3          LUZIÂNIA     GO  2010-03-21  2010  20:45:00               SIM   \n",
              "4       SANTA MARIA     RS  2010-03-10  2010  17:20:00               SIM   \n",
              "\n",
              "  status_investigacao  ...  ocorrencia_saida_pista aeronave_tipo  \\\n",
              "0          FINALIZADA  ...                     NÃO         AVIÃO   \n",
              "1          FINALIZADA  ...                     SIM         AVIÃO   \n",
              "2          FINALIZADA  ...                     NÃO         AVIÃO   \n",
              "3          FINALIZADA  ...                     NÃO         AVIÃO   \n",
              "4          FINALIZADA  ...                     NÃO         AVIÃO   \n",
              "\n",
              "           aeronave_fabricante motor_tipo aeronave_motor_quantidade  \\\n",
              "0  NEIVA INDUSTRIA AERONAUTICA     PISTÃO                 MONOMOTOR   \n",
              "1               PIPER AIRCRAFT     PISTÃO                   BIMOTOR   \n",
              "2              CESSNA AIRCRAFT     PISTÃO                 MONOMOTOR   \n",
              "3                      XAVANTE     PISTÃO                 MONOMOTOR   \n",
              "4               BEECH AIRCRAFT     PISTÃO                 MONOMOTOR   \n",
              "\n",
              "  aeronave_assentos  aeronave_ano_fabricacao  aeronave_pais_fabricante  \\\n",
              "0                 7                     1977                    BRASIL   \n",
              "1                 6                     1997                    BRASIL   \n",
              "2                 6                     1962                    BRASIL   \n",
              "3                 2                     1974                    BRASIL   \n",
              "4                 6                     1974                    BRASIL   \n",
              "\n",
              "  aeronave_fase_operacao aeronave_nivel_dano  \n",
              "0                  POUSO                LEVE  \n",
              "1                  POUSO         SUBSTANCIAL  \n",
              "2      APROXIMAÇÃO FINAL         SUBSTANCIAL  \n",
              "3              DECOLAGEM           DESTRUÍDA  \n",
              "4                  POUSO                LEVE  \n",
              "\n",
              "[5 rows x 21 columns]"
            ],
            "text/html": [
              "\n",
              "  <div id=\"df-9f0c2a38-f0b0-4642-8161-440dd19569b5\">\n",
              "    <div class=\"colab-df-container\">\n",
              "      <div>\n",
              "<style scoped>\n",
              "    .dataframe tbody tr th:only-of-type {\n",
              "        vertical-align: middle;\n",
              "    }\n",
              "\n",
              "    .dataframe tbody tr th {\n",
              "        vertical-align: top;\n",
              "    }\n",
              "\n",
              "    .dataframe thead th {\n",
              "        text-align: right;\n",
              "    }\n",
              "</style>\n",
              "<table border=\"1\" class=\"dataframe\">\n",
              "  <thead>\n",
              "    <tr style=\"text-align: right;\">\n",
              "      <th></th>\n",
              "      <th>codigo</th>\n",
              "      <th>tipo</th>\n",
              "      <th>descricao</th>\n",
              "      <th>cidade</th>\n",
              "      <th>estado</th>\n",
              "      <th>data</th>\n",
              "      <th>ano</th>\n",
              "      <th>hora</th>\n",
              "      <th>aeronave_liberada</th>\n",
              "      <th>status_investigacao</th>\n",
              "      <th>...</th>\n",
              "      <th>ocorrencia_saida_pista</th>\n",
              "      <th>aeronave_tipo</th>\n",
              "      <th>aeronave_fabricante</th>\n",
              "      <th>motor_tipo</th>\n",
              "      <th>aeronave_motor_quantidade</th>\n",
              "      <th>aeronave_assentos</th>\n",
              "      <th>aeronave_ano_fabricacao</th>\n",
              "      <th>aeronave_pais_fabricante</th>\n",
              "      <th>aeronave_fase_operacao</th>\n",
              "      <th>aeronave_nivel_dano</th>\n",
              "    </tr>\n",
              "  </thead>\n",
              "  <tbody>\n",
              "    <tr>\n",
              "      <th>0</th>\n",
              "      <td>40107</td>\n",
              "      <td>ACIDENTE</td>\n",
              "      <td>COLISÃO COM OBSTÁCULO DURANTE A DECOLAGEM E POUSO</td>\n",
              "      <td>GURUPÁ</td>\n",
              "      <td>PA</td>\n",
              "      <td>2010-01-12</td>\n",
              "      <td>2010</td>\n",
              "      <td>14:30:00</td>\n",
              "      <td>SIM</td>\n",
              "      <td>FINALIZADA</td>\n",
              "      <td>...</td>\n",
              "      <td>NÃO</td>\n",
              "      <td>AVIÃO</td>\n",
              "      <td>NEIVA INDUSTRIA AERONAUTICA</td>\n",
              "      <td>PISTÃO</td>\n",
              "      <td>MONOMOTOR</td>\n",
              "      <td>7</td>\n",
              "      <td>1977</td>\n",
              "      <td>BRASIL</td>\n",
              "      <td>POUSO</td>\n",
              "      <td>LEVE</td>\n",
              "    </tr>\n",
              "    <tr>\n",
              "      <th>1</th>\n",
              "      <td>40147</td>\n",
              "      <td>ACIDENTE</td>\n",
              "      <td>FALHA OU MAU FUNCIONAMENTO DE SISTEMA / COMPON...</td>\n",
              "      <td>UNIÃO DA VITÓRIA</td>\n",
              "      <td>PR</td>\n",
              "      <td>2010-04-08</td>\n",
              "      <td>2010</td>\n",
              "      <td>14:20:00</td>\n",
              "      <td>SIM</td>\n",
              "      <td>FINALIZADA</td>\n",
              "      <td>...</td>\n",
              "      <td>SIM</td>\n",
              "      <td>AVIÃO</td>\n",
              "      <td>PIPER AIRCRAFT</td>\n",
              "      <td>PISTÃO</td>\n",
              "      <td>BIMOTOR</td>\n",
              "      <td>6</td>\n",
              "      <td>1997</td>\n",
              "      <td>BRASIL</td>\n",
              "      <td>POUSO</td>\n",
              "      <td>SUBSTANCIAL</td>\n",
              "    </tr>\n",
              "    <tr>\n",
              "      <th>2</th>\n",
              "      <td>40148</td>\n",
              "      <td>ACIDENTE</td>\n",
              "      <td>PANE SECA</td>\n",
              "      <td>CAMPO GRANDE</td>\n",
              "      <td>MS</td>\n",
              "      <td>2010-03-19</td>\n",
              "      <td>2010</td>\n",
              "      <td>19:30:00</td>\n",
              "      <td>SIM</td>\n",
              "      <td>FINALIZADA</td>\n",
              "      <td>...</td>\n",
              "      <td>NÃO</td>\n",
              "      <td>AVIÃO</td>\n",
              "      <td>CESSNA AIRCRAFT</td>\n",
              "      <td>PISTÃO</td>\n",
              "      <td>MONOMOTOR</td>\n",
              "      <td>6</td>\n",
              "      <td>1962</td>\n",
              "      <td>BRASIL</td>\n",
              "      <td>APROXIMAÇÃO FINAL</td>\n",
              "      <td>SUBSTANCIAL</td>\n",
              "    </tr>\n",
              "    <tr>\n",
              "      <th>3</th>\n",
              "      <td>40149</td>\n",
              "      <td>ACIDENTE</td>\n",
              "      <td>FALHA DO MOTOR EM VOO</td>\n",
              "      <td>LUZIÂNIA</td>\n",
              "      <td>GO</td>\n",
              "      <td>2010-03-21</td>\n",
              "      <td>2010</td>\n",
              "      <td>20:45:00</td>\n",
              "      <td>SIM</td>\n",
              "      <td>FINALIZADA</td>\n",
              "      <td>...</td>\n",
              "      <td>NÃO</td>\n",
              "      <td>AVIÃO</td>\n",
              "      <td>XAVANTE</td>\n",
              "      <td>PISTÃO</td>\n",
              "      <td>MONOMOTOR</td>\n",
              "      <td>2</td>\n",
              "      <td>1974</td>\n",
              "      <td>BRASIL</td>\n",
              "      <td>DECOLAGEM</td>\n",
              "      <td>DESTRUÍDA</td>\n",
              "    </tr>\n",
              "    <tr>\n",
              "      <th>4</th>\n",
              "      <td>40150</td>\n",
              "      <td>INCIDENTE GRAVE</td>\n",
              "      <td>COM TREM DE POUSO</td>\n",
              "      <td>SANTA MARIA</td>\n",
              "      <td>RS</td>\n",
              "      <td>2010-03-10</td>\n",
              "      <td>2010</td>\n",
              "      <td>17:20:00</td>\n",
              "      <td>SIM</td>\n",
              "      <td>FINALIZADA</td>\n",
              "      <td>...</td>\n",
              "      <td>NÃO</td>\n",
              "      <td>AVIÃO</td>\n",
              "      <td>BEECH AIRCRAFT</td>\n",
              "      <td>PISTÃO</td>\n",
              "      <td>MONOMOTOR</td>\n",
              "      <td>6</td>\n",
              "      <td>1974</td>\n",
              "      <td>BRASIL</td>\n",
              "      <td>POUSO</td>\n",
              "      <td>LEVE</td>\n",
              "    </tr>\n",
              "  </tbody>\n",
              "</table>\n",
              "<p>5 rows × 21 columns</p>\n",
              "</div>\n",
              "      <button class=\"colab-df-convert\" onclick=\"convertToInteractive('df-9f0c2a38-f0b0-4642-8161-440dd19569b5')\"\n",
              "              title=\"Convert this dataframe to an interactive table.\"\n",
              "              style=\"display:none;\">\n",
              "        \n",
              "  <svg xmlns=\"http://www.w3.org/2000/svg\" height=\"24px\"viewBox=\"0 0 24 24\"\n",
              "       width=\"24px\">\n",
              "    <path d=\"M0 0h24v24H0V0z\" fill=\"none\"/>\n",
              "    <path d=\"M18.56 5.44l.94 2.06.94-2.06 2.06-.94-2.06-.94-.94-2.06-.94 2.06-2.06.94zm-11 1L8.5 8.5l.94-2.06 2.06-.94-2.06-.94L8.5 2.5l-.94 2.06-2.06.94zm10 10l.94 2.06.94-2.06 2.06-.94-2.06-.94-.94-2.06-.94 2.06-2.06.94z\"/><path d=\"M17.41 7.96l-1.37-1.37c-.4-.4-.92-.59-1.43-.59-.52 0-1.04.2-1.43.59L10.3 9.45l-7.72 7.72c-.78.78-.78 2.05 0 2.83L4 21.41c.39.39.9.59 1.41.59.51 0 1.02-.2 1.41-.59l7.78-7.78 2.81-2.81c.8-.78.8-2.07 0-2.86zM5.41 20L4 18.59l7.72-7.72 1.47 1.35L5.41 20z\"/>\n",
              "  </svg>\n",
              "      </button>\n",
              "      \n",
              "  <style>\n",
              "    .colab-df-container {\n",
              "      display:flex;\n",
              "      flex-wrap:wrap;\n",
              "      gap: 12px;\n",
              "    }\n",
              "\n",
              "    .colab-df-convert {\n",
              "      background-color: #E8F0FE;\n",
              "      border: none;\n",
              "      border-radius: 50%;\n",
              "      cursor: pointer;\n",
              "      display: none;\n",
              "      fill: #1967D2;\n",
              "      height: 32px;\n",
              "      padding: 0 0 0 0;\n",
              "      width: 32px;\n",
              "    }\n",
              "\n",
              "    .colab-df-convert:hover {\n",
              "      background-color: #E2EBFA;\n",
              "      box-shadow: 0px 1px 2px rgba(60, 64, 67, 0.3), 0px 1px 3px 1px rgba(60, 64, 67, 0.15);\n",
              "      fill: #174EA6;\n",
              "    }\n",
              "\n",
              "    [theme=dark] .colab-df-convert {\n",
              "      background-color: #3B4455;\n",
              "      fill: #D2E3FC;\n",
              "    }\n",
              "\n",
              "    [theme=dark] .colab-df-convert:hover {\n",
              "      background-color: #434B5C;\n",
              "      box-shadow: 0px 1px 3px 1px rgba(0, 0, 0, 0.15);\n",
              "      filter: drop-shadow(0px 1px 2px rgba(0, 0, 0, 0.3));\n",
              "      fill: #FFFFFF;\n",
              "    }\n",
              "  </style>\n",
              "\n",
              "      <script>\n",
              "        const buttonEl =\n",
              "          document.querySelector('#df-9f0c2a38-f0b0-4642-8161-440dd19569b5 button.colab-df-convert');\n",
              "        buttonEl.style.display =\n",
              "          google.colab.kernel.accessAllowed ? 'block' : 'none';\n",
              "\n",
              "        async function convertToInteractive(key) {\n",
              "          const element = document.querySelector('#df-9f0c2a38-f0b0-4642-8161-440dd19569b5');\n",
              "          const dataTable =\n",
              "            await google.colab.kernel.invokeFunction('convertToInteractive',\n",
              "                                                     [key], {});\n",
              "          if (!dataTable) return;\n",
              "\n",
              "          const docLinkHtml = 'Like what you see? Visit the ' +\n",
              "            '<a target=\"_blank\" href=https://colab.research.google.com/notebooks/data_table.ipynb>data table notebook</a>'\n",
              "            + ' to learn more about interactive tables.';\n",
              "          element.innerHTML = '';\n",
              "          dataTable['output_type'] = 'display_data';\n",
              "          await google.colab.output.renderOutput(dataTable, element);\n",
              "          const docLink = document.createElement('div');\n",
              "          docLink.innerHTML = docLinkHtml;\n",
              "          element.appendChild(docLink);\n",
              "        }\n",
              "      </script>\n",
              "    </div>\n",
              "  </div>\n",
              "  "
            ]
          },
          "metadata": {},
          "execution_count": 3
        }
      ]
    },
    {
      "cell_type": "markdown",
      "source": [
        "## **Comparação de dados brasileiros e dados mundiais**"
      ],
      "metadata": {
        "id": "yQdxDbT_0ajW"
      }
    },
    {
      "cell_type": "code",
      "source": [
        "dados['aeronave_nivel_dano'].value_counts().plot(kind='barh',label=\"Classificação de Ocorrências\" ,figsize=(6, 6),color='blue')\n",
        "plt.xlabel(\"Quantidade\", labelpad=14)\n",
        "plt.ylabel(\"Nivel de Dano\", labelpad=14)\n",
        "plt.title(\"Quantidade de danos por categoria\", y=1.02);\n",
        "plt.show()"
      ],
      "metadata": {
        "id": "069eZFfjdkO8",
        "outputId": "a7ce2c86-96ee-4107-e56e-f9bbb6570ecb",
        "colab": {
          "base_uri": "https://localhost:8080/",
          "height": 425
        }
      },
      "execution_count": null,
      "outputs": [
        {
          "output_type": "display_data",
          "data": {
            "text/plain": [
              "<Figure size 432x432 with 1 Axes>"
            ],
            "image/png": "[encoded data removed]"
          },
          "metadata": {}
        }
      ]
    },
    {
      "cell_type": "markdown",
      "source": [
        "Observa-se uma maioria de casos com nenhum dano apesar dos acidentes. A ordem dos demais segue-se nesta ordem: Leve, substancial ,destruída e inderteminado."
      ],
      "metadata": {
        "id": "XL_iy0-01BA-"
      }
    },
    {
      "cell_type": "code",
      "source": [
        "dadosbrasil['aeronave_nivel_dano'].value_counts().plot(kind='barh',label=\"Classificação de Ocorrências\" ,figsize=(6, 6),color='blue')\n",
        "plt.xlabel(\"Quantidade\", labelpad=14)\n",
        "plt.ylabel(\"Nivel de Dano\", labelpad=14)\n",
        "plt.title(\"Quantidade de danos por categoria no Brasil\", y=1.02);\n",
        "plt.show()"
      ],
      "metadata": {
        "colab": {
          "base_uri": "https://localhost:8080/",
          "height": 425
        },
        "id": "hnd08S1NckLo",
        "outputId": "e212b691-ac97-4197-9e1a-1e37c612657b"
      },
      "execution_count": null,
      "outputs": [
        {
          "output_type": "display_data",
          "data": {
            "text/plain": [
              "<Figure size 432x432 with 1 Axes>"
            ],
            "image/png": "[encoded data removed]"
          },
          "metadata": {}
        }
      ]
    },
    {
      "cell_type": "markdown",
      "source": [
        "Observa-se que no Brasil, a categoria de acidente substancial tem uma maior quantidade em relação as dados totais"
      ],
      "metadata": {
        "id": "UuS4q8e11MiT"
      }
    },
    {
      "cell_type": "markdown",
      "source": [
        "Apesar dos níveis de dano serem de maioridade \"Nenhum\" para ambos, o Brasil segue com quantidade maiores seguidos por \"substancial\", comparados com dados mundiais de maioridade \"Leve\""
      ],
      "metadata": {
        "id": "xMTtSPjX2Fnk"
      }
    },
    {
      "cell_type": "code",
      "source": [
        "dadosbrasil['tipo'].value_counts().plot(kind='barh',figsize=(15, 8),color='green')\n",
        "plt.xlabel(\"Quantidade\", labelpad=14)\n",
        "plt.ylabel(\"Tipos de acidente no Brasil\", labelpad=14)\n",
        "plt.title(\"Categorias em que os acidentes ocorreram no Brasil\", y=1.02);\n",
        "plt.show()"
      ],
      "metadata": {
        "colab": {
          "base_uri": "https://localhost:8080/",
          "height": 531
        },
        "id": "L5bW-jIfPjyZ",
        "outputId": "47c0e003-66ce-494c-aec5-c1d9eb21c2ae"
      },
      "execution_count": null,
      "outputs": [
        {
          "output_type": "display_data",
          "data": {
            "text/plain": [
              "<Figure size 1080x576 with 1 Axes>"
            ],
            "image/png": "[encoded data removed]"
          },
          "metadata": {
            "needs_background": "light"
          }
        }
      ]
    },
    {
      "cell_type": "markdown",
      "source": [
        "No Brasil é possivel observar que mais de **2500** dos casos foram causados por Incidentes de aeronaves e não acidentes"
      ],
      "metadata": {
        "id": "1s8SUM3xc0rK"
      }
    },
    {
      "cell_type": "code",
      "source": [
        "plt.figure(figsize = (12,6))\n",
        "plt.barh(tipos.Nivel,tipos.Quantidade, color='red')\n",
        "plt.title('Quantidade de Tipos de aeronaves com maiores acidentes')\n",
        "plt.xlabel('Quantidades')\n",
        "plt.ylabel('Tipos')\n",
        "plt.show()"
      ],
      "metadata": {
        "colab": {
          "base_uri": "https://localhost:8080/",
          "height": 404
        },
        "id": "sR3ktnZgdKEI",
        "outputId": "0eebf218-5240-4113-ba4f-ad21969897a2"
      },
      "execution_count": null,
      "outputs": [
        {
          "output_type": "display_data",
          "data": {
            "text/plain": [
              "<Figure size 864x432 with 1 Axes>"
            ],
            "image/png": "[encoded data removed]"
          },
          "metadata": {
            "needs_background": "light"
          }
        }
      ]
    },
    {
      "cell_type": "code",
      "source": [
        "tipos.describe().round()"
      ],
      "metadata": {
        "colab": {
          "base_uri": "https://localhost:8080/",
          "height": 300
        },
        "id": "JRuUegny35Xe",
        "outputId": "289ce3a0-fb45-46cf-f6e3-cee34217e130"
      },
      "execution_count": null,
      "outputs": [
        {
          "output_type": "execute_result",
          "data": {
            "text/plain": [
              "Index  Quantidade\n",
              "count        10.0\n",
              "mean        524.0\n",
              "std        1311.0\n",
              "min           1.0\n",
              "25%           2.0\n",
              "50%          14.0\n",
              "75%         252.0\n",
              "max        4213.0"
            ],
            "text/html": [
              "\n",
              "  <div id=\"df-807ca9e7-841d-47bb-ae5a-7ecd82f92a88\">\n",
              "    <div class=\"colab-df-container\">\n",
              "      <div>\n",
              "<style scoped>\n",
              "    .dataframe tbody tr th:only-of-type {\n",
              "        vertical-align: middle;\n",
              "    }\n",
              "\n",
              "    .dataframe tbody tr th {\n",
              "        vertical-align: top;\n",
              "    }\n",
              "\n",
              "    .dataframe thead th {\n",
              "        text-align: right;\n",
              "    }\n",
              "</style>\n",
              "<table border=\"1\" class=\"dataframe\">\n",
              "  <thead>\n",
              "    <tr style=\"text-align: right;\">\n",
              "      <th>Index</th>\n",
              "      <th>Quantidade</th>\n",
              "    </tr>\n",
              "  </thead>\n",
              "  <tbody>\n",
              "    <tr>\n",
              "      <th>count</th>\n",
              "      <td>10.0</td>\n",
              "    </tr>\n",
              "    <tr>\n",
              "      <th>mean</th>\n",
              "      <td>524.0</td>\n",
              "    </tr>\n",
              "    <tr>\n",
              "      <th>std</th>\n",
              "      <td>1311.0</td>\n",
              "    </tr>\n",
              "    <tr>\n",
              "      <th>min</th>\n",
              "      <td>1.0</td>\n",
              "    </tr>\n",
              "    <tr>\n",
              "      <th>25%</th>\n",
              "      <td>2.0</td>\n",
              "    </tr>\n",
              "    <tr>\n",
              "      <th>50%</th>\n",
              "      <td>14.0</td>\n",
              "    </tr>\n",
              "    <tr>\n",
              "      <th>75%</th>\n",
              "      <td>252.0</td>\n",
              "    </tr>\n",
              "    <tr>\n",
              "      <th>max</th>\n",
              "      <td>4213.0</td>\n",
              "    </tr>\n",
              "  </tbody>\n",
              "</table>\n",
              "</div>\n",
              "      <button class=\"colab-df-convert\" onclick=\"convertToInteractive('df-807ca9e7-841d-47bb-ae5a-7ecd82f92a88')\"\n",
              "              title=\"Convert this dataframe to an interactive table.\"\n",
              "              style=\"display:none;\">\n",
              "        \n",
              "  <svg xmlns=\"http://www.w3.org/2000/svg\" height=\"24px\"viewBox=\"0 0 24 24\"\n",
              "       width=\"24px\">\n",
              "    <path d=\"M0 0h24v24H0V0z\" fill=\"none\"/>\n",
              "    <path d=\"M18.56 5.44l.94 2.06.94-2.06 2.06-.94-2.06-.94-.94-2.06-.94 2.06-2.06.94zm-11 1L8.5 8.5l.94-2.06 2.06-.94-2.06-.94L8.5 2.5l-.94 2.06-2.06.94zm10 10l.94 2.06.94-2.06 2.06-.94-2.06-.94-.94-2.06-.94 2.06-2.06.94z\"/><path d=\"M17.41 7.96l-1.37-1.37c-.4-.4-.92-.59-1.43-.59-.52 0-1.04.2-1.43.59L10.3 9.45l-7.72 7.72c-.78.78-.78 2.05 0 2.83L4 21.41c.39.39.9.59 1.41.59.51 0 1.02-.2 1.41-.59l7.78-7.78 2.81-2.81c.8-.78.8-2.07 0-2.86zM5.41 20L4 18.59l7.72-7.72 1.47 1.35L5.41 20z\"/>\n",
              "  </svg>\n",
              "      </button>\n",
              "      \n",
              "  <style>\n",
              "    .colab-df-container {\n",
              "      display:flex;\n",
              "      flex-wrap:wrap;\n",
              "      gap: 12px;\n",
              "    }\n",
              "\n",
              "    .colab-df-convert {\n",
              "      background-color: #E8F0FE;\n",
              "      border: none;\n",
              "      border-radius: 50%;\n",
              "      cursor: pointer;\n",
              "      display: none;\n",
              "      fill: #1967D2;\n",
              "      height: 32px;\n",
              "      padding: 0 0 0 0;\n",
              "      width: 32px;\n",
              "    }\n",
              "\n",
              "    .colab-df-convert:hover {\n",
              "      background-color: #E2EBFA;\n",
              "      box-shadow: 0px 1px 2px rgba(60, 64, 67, 0.3), 0px 1px 3px 1px rgba(60, 64, 67, 0.15);\n",
              "      fill: #174EA6;\n",
              "    }\n",
              "\n",
              "    [theme=dark] .colab-df-convert {\n",
              "      background-color: #3B4455;\n",
              "      fill: #D2E3FC;\n",
              "    }\n",
              "\n",
              "    [theme=dark] .colab-df-convert:hover {\n",
              "      background-color: #434B5C;\n",
              "      box-shadow: 0px 1px 3px 1px rgba(0, 0, 0, 0.15);\n",
              "      filter: drop-shadow(0px 1px 2px rgba(0, 0, 0, 0.3));\n",
              "      fill: #FFFFFF;\n",
              "    }\n",
              "  </style>\n",
              "\n",
              "      <script>\n",
              "        const buttonEl =\n",
              "          document.querySelector('#df-807ca9e7-841d-47bb-ae5a-7ecd82f92a88 button.colab-df-convert');\n",
              "        buttonEl.style.display =\n",
              "          google.colab.kernel.accessAllowed ? 'block' : 'none';\n",
              "\n",
              "        async function convertToInteractive(key) {\n",
              "          const element = document.querySelector('#df-807ca9e7-841d-47bb-ae5a-7ecd82f92a88');\n",
              "          const dataTable =\n",
              "            await google.colab.kernel.invokeFunction('convertToInteractive',\n",
              "                                                     [key], {});\n",
              "          if (!dataTable) return;\n",
              "\n",
              "          const docLinkHtml = 'Like what you see? Visit the ' +\n",
              "            '<a target=\"_blank\" href=https://colab.research.google.com/notebooks/data_table.ipynb>data table notebook</a>'\n",
              "            + ' to learn more about interactive tables.';\n",
              "          element.innerHTML = '';\n",
              "          dataTable['output_type'] = 'display_data';\n",
              "          await google.colab.output.renderOutput(dataTable, element);\n",
              "          const docLink = document.createElement('div');\n",
              "          docLink.innerHTML = docLinkHtml;\n",
              "          element.appendChild(docLink);\n",
              "        }\n",
              "      </script>\n",
              "    </div>\n",
              "  </div>\n",
              "  "
            ]
          },
          "metadata": {},
          "execution_count": 33
        }
      ]
    },
    {
      "cell_type": "markdown",
      "source": [
        "De forma gráfica é possível observar uma grande quantidade de acidentes bastante concentrados na categoria \"Avião\".\n",
        "De forma geral, temos uma média de **524** acidentes pos categoria. E um desvio padrão de **1311**."
      ],
      "metadata": {
        "id": "BDI1V5ef3yI9"
      }
    },
    {
      "cell_type": "markdown",
      "source": [
        ""
      ],
      "metadata": {
        "id": "hVUFWTaW3oFF"
      }
    },
    {
      "cell_type": "code",
      "source": [
        "anos = pd.DataFrame(dados.aeronave_ano_fabricacao.value_counts())\n",
        "anos.reset_index(inplace=True)\n",
        "anos.rename_axis('Index', axis = 1,inplace=True)\n",
        "anos.rename(columns={'index':'Ano', 'aeronave_ano_fabricacao': 'Quantidade'},inplace=True)\n",
        "anos.head(6)"
      ],
      "metadata": {
        "colab": {
          "base_uri": "https://localhost:8080/",
          "height": 237
        },
        "id": "GYV1oWi8Pj4z",
        "outputId": "b5ebbd44-7bed-4961-874f-5196f354dc6e"
      },
      "execution_count": null,
      "outputs": [
        {
          "output_type": "execute_result",
          "data": {
            "text/plain": [
              "Index   Ano  Quantidade\n",
              "0         0         345\n",
              "1      2008         229\n",
              "2      2010         220\n",
              "3      2009         216\n",
              "4      2011         197\n",
              "5      2012         194"
            ],
            "text/html": [
              "\n",
              "  <div id=\"df-88237b9e-cab0-4679-a69e-bd96413fbd01\">\n",
              "    <div class=\"colab-df-container\">\n",
              "      <div>\n",
              "<style scoped>\n",
              "    .dataframe tbody tr th:only-of-type {\n",
              "        vertical-align: middle;\n",
              "    }\n",
              "\n",
              "    .dataframe tbody tr th {\n",
              "        vertical-align: top;\n",
              "    }\n",
              "\n",
              "    .dataframe thead th {\n",
              "        text-align: right;\n",
              "    }\n",
              "</style>\n",
              "<table border=\"1\" class=\"dataframe\">\n",
              "  <thead>\n",
              "    <tr style=\"text-align: right;\">\n",
              "      <th>Index</th>\n",
              "      <th>Ano</th>\n",
              "      <th>Quantidade</th>\n",
              "    </tr>\n",
              "  </thead>\n",
              "  <tbody>\n",
              "    <tr>\n",
              "      <th>0</th>\n",
              "      <td>0</td>\n",
              "      <td>345</td>\n",
              "    </tr>\n",
              "    <tr>\n",
              "      <th>1</th>\n",
              "      <td>2008</td>\n",
              "      <td>229</td>\n",
              "    </tr>\n",
              "    <tr>\n",
              "      <th>2</th>\n",
              "      <td>2010</td>\n",
              "      <td>220</td>\n",
              "    </tr>\n",
              "    <tr>\n",
              "      <th>3</th>\n",
              "      <td>2009</td>\n",
              "      <td>216</td>\n",
              "    </tr>\n",
              "    <tr>\n",
              "      <th>4</th>\n",
              "      <td>2011</td>\n",
              "      <td>197</td>\n",
              "    </tr>\n",
              "    <tr>\n",
              "      <th>5</th>\n",
              "      <td>2012</td>\n",
              "      <td>194</td>\n",
              "    </tr>\n",
              "  </tbody>\n",
              "</table>\n",
              "</div>\n",
              "      <button class=\"colab-df-convert\" onclick=\"convertToInteractive('df-88237b9e-cab0-4679-a69e-bd96413fbd01')\"\n",
              "              title=\"Convert this dataframe to an interactive table.\"\n",
              "              style=\"display:none;\">\n",
              "        \n",
              "  <svg xmlns=\"http://www.w3.org/2000/svg\" height=\"24px\"viewBox=\"0 0 24 24\"\n",
              "       width=\"24px\">\n",
              "    <path d=\"M0 0h24v24H0V0z\" fill=\"none\"/>\n",
              "    <path d=\"M18.56 5.44l.94 2.06.94-2.06 2.06-.94-2.06-.94-.94-2.06-.94 2.06-2.06.94zm-11 1L8.5 8.5l.94-2.06 2.06-.94-2.06-.94L8.5 2.5l-.94 2.06-2.06.94zm10 10l.94 2.06.94-2.06 2.06-.94-2.06-.94-.94-2.06-.94 2.06-2.06.94z\"/><path d=\"M17.41 7.96l-1.37-1.37c-.4-.4-.92-.59-1.43-.59-.52 0-1.04.2-1.43.59L10.3 9.45l-7.72 7.72c-.78.78-.78 2.05 0 2.83L4 21.41c.39.39.9.59 1.41.59.51 0 1.02-.2 1.41-.59l7.78-7.78 2.81-2.81c.8-.78.8-2.07 0-2.86zM5.41 20L4 18.59l7.72-7.72 1.47 1.35L5.41 20z\"/>\n",
              "  </svg>\n",
              "      </button>\n",
              "      \n",
              "  <style>\n",
              "    .colab-df-container {\n",
              "      display:flex;\n",
              "      flex-wrap:wrap;\n",
              "      gap: 12px;\n",
              "    }\n",
              "\n",
              "    .colab-df-convert {\n",
              "      background-color: #E8F0FE;\n",
              "      border: none;\n",
              "      border-radius: 50%;\n",
              "      cursor: pointer;\n",
              "      display: none;\n",
              "      fill: #1967D2;\n",
              "      height: 32px;\n",
              "      padding: 0 0 0 0;\n",
              "      width: 32px;\n",
              "    }\n",
              "\n",
              "    .colab-df-convert:hover {\n",
              "      background-color: #E2EBFA;\n",
              "      box-shadow: 0px 1px 2px rgba(60, 64, 67, 0.3), 0px 1px 3px 1px rgba(60, 64, 67, 0.15);\n",
              "      fill: #174EA6;\n",
              "    }\n",
              "\n",
              "    [theme=dark] .colab-df-convert {\n",
              "      background-color: #3B4455;\n",
              "      fill: #D2E3FC;\n",
              "    }\n",
              "\n",
              "    [theme=dark] .colab-df-convert:hover {\n",
              "      background-color: #434B5C;\n",
              "      box-shadow: 0px 1px 3px 1px rgba(0, 0, 0, 0.15);\n",
              "      filter: drop-shadow(0px 1px 2px rgba(0, 0, 0, 0.3));\n",
              "      fill: #FFFFFF;\n",
              "    }\n",
              "  </style>\n",
              "\n",
              "      <script>\n",
              "        const buttonEl =\n",
              "          document.querySelector('#df-88237b9e-cab0-4679-a69e-bd96413fbd01 button.colab-df-convert');\n",
              "        buttonEl.style.display =\n",
              "          google.colab.kernel.accessAllowed ? 'block' : 'none';\n",
              "\n",
              "        async function convertToInteractive(key) {\n",
              "          const element = document.querySelector('#df-88237b9e-cab0-4679-a69e-bd96413fbd01');\n",
              "          const dataTable =\n",
              "            await google.colab.kernel.invokeFunction('convertToInteractive',\n",
              "                                                     [key], {});\n",
              "          if (!dataTable) return;\n",
              "\n",
              "          const docLinkHtml = 'Like what you see? Visit the ' +\n",
              "            '<a target=\"_blank\" href=https://colab.research.google.com/notebooks/data_table.ipynb>data table notebook</a>'\n",
              "            + ' to learn more about interactive tables.';\n",
              "          element.innerHTML = '';\n",
              "          dataTable['output_type'] = 'display_data';\n",
              "          await google.colab.output.renderOutput(dataTable, element);\n",
              "          const docLink = document.createElement('div');\n",
              "          docLink.innerHTML = docLinkHtml;\n",
              "          element.appendChild(docLink);\n",
              "        }\n",
              "      </script>\n",
              "    </div>\n",
              "  </div>\n",
              "  "
            ]
          },
          "metadata": {},
          "execution_count": 116
        }
      ]
    },
    {
      "cell_type": "markdown",
      "source": [
        "É possível notar, apesar de não trazer nenhum gráfico, que existe um aumento de quantidade de acidentes enquanto os anos passam."
      ],
      "metadata": {
        "id": "NYVYJORl5Dp6"
      }
    },
    {
      "cell_type": "markdown",
      "source": [
        "## **DADOS DO BRASIL**"
      ],
      "metadata": {
        "id": "6tbMjyqA4gzh"
      }
    },
    {
      "cell_type": "code",
      "source": [
        "plt.figure(figsize=(18,6))\n",
        "dadosbrasil['aeronave_liberada'].value_counts().plot(kind='pie',autopct='%1.1f%%',label=\"Aeronaves liberadas no Brasil\" ,figsize=(6, 6))\n",
        "plt.show()"
      ],
      "metadata": {
        "colab": {
          "base_uri": "https://localhost:8080/",
          "height": 357
        },
        "id": "yGnoCnVIToJh",
        "outputId": "3035bf76-fa08-4e2b-c311-d702111c0eb5"
      },
      "execution_count": null,
      "outputs": [
        {
          "output_type": "display_data",
          "data": {
            "text/plain": [
              "<Figure size 432x432 with 1 Axes>"
            ],
            "image/png": "[encoded data removed]"
          },
          "metadata": {}
        }
      ]
    },
    {
      "cell_type": "markdown",
      "source": [
        "O Gráfico de pizza apresenta que mais de 50% dos acidentes ocorreram com aeronaves que já foram liberadas."
      ],
      "metadata": {
        "id": "HQ5ylCyP5QNB"
      }
    },
    {
      "cell_type": "code",
      "source": [
        "\n",
        "dadosbrasil['aeronave_fase_operacao'].value_counts().plot(kind='barh',label=\"Classificação de Ocorrências\" ,figsize=(15, 8),color='blue')\n",
        "plt.xlabel(\"Quantidade\", labelpad=14)\n",
        "plt.ylabel(\"Fase de operação\", labelpad=14)\n",
        "plt.title(\"Fase de operação em que os acidentes ocorreram no Brasil\", y=1.02);\n",
        "plt.show()"
      ],
      "metadata": {
        "id": "FYMGYBiGXxHN",
        "colab": {
          "base_uri": "https://localhost:8080/",
          "height": 535
        },
        "outputId": "8af82748-a592-45e3-be06-99264092ca4c"
      },
      "execution_count": null,
      "outputs": [
        {
          "output_type": "display_data",
          "data": {
            "text/plain": [
              "<Figure size 1080x576 with 1 Axes>"
            ],
            "image/png": "[encoded data removed]"
          },
          "metadata": {}
        }
      ]
    },
    {
      "cell_type": "markdown",
      "source": [
        "No Brasil, durante as feses de operações, aconteceram maiores quantidades de acidentes acima da média entre as fases de \"pouso\", \"decolagem\" e \"cruzeiro\"."
      ],
      "metadata": {
        "id": "mWmeeDrxEIvn"
      }
    },
    {
      "cell_type": "markdown",
      "source": [
        "## **REGRESSÃO LINEAR**"
      ],
      "metadata": {
        "id": "CIaTZlOprpMc"
      }
    },
    {
      "cell_type": "code",
      "source": [
        "plt.figure(figsize=(18,6))\n",
        "\n",
        "ax = sns.lmplot(x=\"aeronave_ano_fabricacao\", y=\"aeronave_assentos\", data=dadosbrasil, col=\"ocorrencia_saida_pista\")\n",
        "ax.fig.suptitle('Reta de Regressão no Brasil', fontsize=16, y=1.02)\n",
        "ax.set_xlabels(\"Ano\", fontsize=14)\n",
        "ax.set_ylabels(\"Quantidade de assentos\", fontsize=14)\n",
        "plt.show()"
      ],
      "metadata": {
        "colab": {
          "base_uri": "https://localhost:8080/",
          "height": 408
        },
        "id": "0hFHO2O3roBU",
        "outputId": "38adaa60-b4de-4a42-c240-57d702a911e4"
      },
      "execution_count": null,
      "outputs": [
        {
          "output_type": "display_data",
          "data": {
            "text/plain": [
              "<Figure size 1296x432 with 0 Axes>"
            ]
          },
          "metadata": {}
        },
        {
          "output_type": "display_data",
          "data": {
            "text/plain": [
              "<Figure size 720x360 with 2 Axes>"
            ],
            "image/png": "[encoded data removed]"
          },
          "metadata": {
            "needs_background": "light"
          }
        }
      ]
    },
    {
      "cell_type": "markdown",
      "source": [
        "Dividimos a reta deste método de regressão linear, para comparar casos de occorencias de acidentes onde é dividos aeronaves que saíram da pista ao lado das aeronaves que não saíram.\n",
        "\n",
        "É possível notar um crescimento da reta é ambos os casos,  porém existem um valor grande em relação as aeronaves com grandes quantidades de assentos chagando a mais de **350**."
      ],
      "metadata": {
        "id": "iYhAZ-j43aIF"
      }
    },
    {
      "cell_type": "code",
      "source": [
        "estado = Counter(dadosbrasil['estado'])\n",
        "fase_estado = sorted(estado, key = estado.get, reverse = True)\n",
        "contador_estado = sorted(list(estado.values()), reverse = True)\n",
        "\n",
        "plt.style.use(\"ggplot\")\n",
        "fig,ax = plt.subplots(figsize=(26, 6))\n",
        "\n",
        "x=fase_estado\n",
        "y=contador_estado\n",
        "\n",
        "rects1=ax.bar(x, y,color='black')\n",
        "\n",
        "ax.set_xticks(x)\n",
        "plt.ylabel(\"Número de ocorrências no Brasil\")\n",
        "plt.title('Ocorrências por estado no BRASIL (2010-2019)')\n",
        "plt.text(7, 1100.9, 'Mediana: %d'%(np.median(np.array(contador_estado))))\n",
        "plt.text(7, 1000.9, 'Média: %d'%(np.mean(np.array(contador_estado))))\n",
        "plt.text(7, 900.8, 'Desvio padrão: %.2f'%(static.stdev(contador_estado)))   \n",
        "\n",
        "\n",
        "plt.show()"
      ],
      "metadata": {
        "colab": {
          "base_uri": "https://localhost:8080/",
          "height": 363
        },
        "id": "QyRIyuaO1iFN",
        "outputId": "10a2528a-3c3b-4818-92d2-c94fef244ec2"
      },
      "execution_count": null,
      "outputs": [
        {
          "output_type": "display_data",
          "data": {
            "text/plain": [
              "<Figure size 1872x432 with 1 Axes>"
            ],
            "image/png": "[encoded data removed]"
          },
          "metadata": {}
        }
      ]
    },
    {
      "cell_type": "markdown",
      "source": [
        "Observa-se que no Brasil, os maiores estados em que os acidentes o correram está entre SP, MG e .RJ\n",
        "São Paulo tem quantidades absurdas correspondendo a mais de **50%** dos casos chegando a bater recorde de mais de **1200** acidentes\n",
        "Para todos eles existe uma média de acidentes de **86%** ."
      ],
      "metadata": {
        "id": "d6AYoLfJ8W5v"
      }
    },
    {
      "cell_type": "markdown",
      "source": [
        "**CONCLUSÃO**"
      ],
      "metadata": {
        "id": "CHaVDxJh8XTw"
      }
    },
    {
      "cell_type": "markdown",
      "source": [
        "O estudo aqui realizado teve como objetivo principal a contribuição para o\n",
        "incremento da segurança das operações aéreas no âmbito nacional e conscientizar os\n",
        "responsáveis pelo seu desenvolvimento dos iminentes riscos gerados pelos acidentes, \n",
        "os quais foram tomados como referência ao redor do mundo para o desenvolvimento de \n",
        "legislações específicas e condizentes com a realidade do setor da aviação de cada um dos países.\n",
        "\n",
        "  Além disso, a partir da interpretação das estatísticas apresentadas torna-se claro que\n",
        "acidentes deste tipo, em sua maioria, trazem sérias consequências e envolvem grandes perdas\n",
        "que poderiam e deveriam ter sido evitadas. Por isso, todo trabalho voltado à prevenção de\n",
        "acidentes deve ser visto como benefício à empresa aérea e à comunidade aeronáutica, e não\n",
        "como gastos desnecessários. \n",
        "\n",
        "  Acidentes aéreos, via de regra, sempre trazem consequências ruins aos envolvidos.\n",
        "Às empresas aéreas, gastos excessivos com perdas materiais, de tripulação e indenizações às\n",
        "vítimas, entretanto, acima de tudo, as piores consequências serão às famílias dos envolvidos,\n",
        "as quais perdem seus parentes graças à situações que poderiam ter sido evitadas a partir de um\n",
        "melhor emprego da tecnologia e provisão de treinamentos adequados à tripulação de voo.\n",
        "  Dessa forma, não deve haver economia de esforços por parte das autoridades\n",
        "brasileiras em prol da redução do número de ocorrências de voo controlado em direção ao\n",
        "terreno e perda de controle em voo, Portanto, recomenda-se\n",
        "programas de conscientização, principalmente ao pessoal habilitado à pilotagem de aeronaves,\n",
        "independente de tamanho, capacidade ou performance delas, quanto aos riscos e possíveis\n",
        "consequências se assumir condições de voo diferentes das quais estão habilitados, além da\n",
        "regulamentação de programas de treinamento adequados à realidade da aviação brasileira,\n",
        "voltados à prevenção e recuperação de desvios de envelope de voo, os chamados upsets.\n",
        "\n",
        "  Em um mercado com grande potencial para o crescimento e cuja tendência, quando\n",
        "se analisando historicamente e em comparação com outros países desenvolvidos, se mostra de\n",
        "forma a comprovar esta capacidade, é fundamental que o fator segurança acompanhe esta evolução, \n",
        "assegurando assim o sucesso desse meio de transporte graças à conquista da\n",
        "confiança da população para o seu uso."
      ],
      "metadata": {
        "id": "ZYZbCB35-QYx"
      }
    },
    {
      "cell_type": "markdown",
      "source": [
        "**Referências Bibliográficas**"
      ],
      "metadata": {
        "id": "kRy9OnJW_SGN"
      }
    },
    {
      "cell_type": "markdown",
      "source": [
        "\n",
        "Notícias acidentes aérios: https://g1.globo.com/Noticias/Mundo/0,,MUL1181784-5602,00-VEJA+ESTATISTICAS+DE+ACIDENTES+AEREOS+NO+MUNDO.html\n",
        "\n",
        "Python funções: https://www.ime.usp.br/~vwsetzer/python-opers-funcoes.html\n",
        "\n",
        "Python tecnicas iniciantes: https://www.freecodecamp.org/portuguese/news/exemplos-de-codigo-em-python-tutorial-de-programacao-com-scripts-de-exemplo-para-iniciantes/\n",
        "\n",
        "Sobre o matplotlib: https://www.alura.com.br/artigos/criando-graficos-no-python-com-a-matplotlib?gclid=Cj0KCQjwqPGUBhDwARIsANNwjV6oqrUZajVHtBpXLpTb9J4-ToW2EpL1-Z_F6fIMkWDXbb_K2IDBsOMaAiUnEALw_wcB\n",
        "\n",
        "Comandos pandas: https://paulovasconcellos.com.br/28-comandos-%C3%BAteis-de-pandas-que-talvez-voc%C3%AA-n%C3%A3o-conhe%C3%A7a-6ab64beefa93\n",
        "\n",
        "Estatísticas em Python: https://www.cienciaedados.com/3-principais-pacotes-python-para-aprender-estatistica-para-data-science/#:~:text=Stats,a%20API%20estat%C3%ADstica%20chamada%20Stats.\n",
        "\n",
        "Value Counts Python: https://www.geeksforgeeks.org/python-pandas-index-value_counts/#:~:text=value_counts()%20function%20returns%20object,Excludes%20NA%20values%20by%20default."
      ],
      "metadata": {
        "id": "7dIRLFgd_aTt"
      }
    }
  ]
}